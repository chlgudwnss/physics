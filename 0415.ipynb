{
  "nbformat": 4,
  "nbformat_minor": 0,
  "metadata": {
    "colab": {
      "provenance": [],
      "gpuType": "T4",
      "authorship_tag": "ABX9TyO7T7LQ1vxEBXQpDdetiHMO",
      "include_colab_link": true
    },
    "kernelspec": {
      "name": "python3",
      "display_name": "Python 3"
    },
    "language_info": {
      "name": "python"
    },
    "accelerator": "GPU"
  },
  "cells": [
    {
      "cell_type": "markdown",
      "metadata": {
        "id": "view-in-github",
        "colab_type": "text"
      },
      "source": [
        "<a href=\"https://colab.research.google.com/github/chlgudwnss/physics/blob/20250415/0415.ipynb\" target=\"_parent\"><img src=\"https://colab.research.google.com/assets/colab-badge.svg\" alt=\"Open In Colab\"/></a>"
      ]
    },
    {
      "cell_type": "code",
      "execution_count": 1,
      "metadata": {
        "colab": {
          "base_uri": "https://localhost:8080/"
        },
        "id": "vYEZurn3TAES",
        "outputId": "a4849a89-fe52-4bb1-a0da-ec9918dcef74"
      },
      "outputs": [
        {
          "output_type": "stream",
          "name": "stdout",
          "text": [
            "초기속도를 입력하세요: 10\n",
            "높이를 입력하세요: 140\n",
            "각도를 입력하세요: 37\n",
            "V0x는 7.99\n",
            "V0y는 6.02\n",
            "걸린시간은 5.99초입니다.\n",
            "수평거리 X는 47.87\n",
            "속도의 수평성분 7.99 m/s입니다.\n",
            "속도의 수직성분 -52.73 m/s입니다.\n",
            "속도의 크기는 53.33 m/s입니다.\n",
            "속도벡터가 수평면과 이루는 각은 -81.39도입니다.\n"
          ]
        }
      ],
      "source": [
        "import math\n",
        "\n",
        "# 상수 정의\n",
        "PI = math.pi\n",
        "g = -9.8\n",
        "\n",
        "# 사용자 입력 받기\n",
        "V0 = float(input(\"초기속도를 입력하세요: \"))\n",
        "y0 = float(input(\"높이를 입력하세요: \"))\n",
        "angle_degree = float(input(\"각도를 입력하세요: \"))\n",
        "\n",
        "# 각도 라디안으로 변환\n",
        "rad = angle_degree * PI / 180\n",
        "\n",
        "# 초기 속도의 수평, 수직 성분\n",
        "V0x = V0 * math.cos(rad)\n",
        "V0y = V0 * math.sin(rad)\n",
        "\n",
        "print(f\"V0x는 {V0x:.2f}\")\n",
        "print(f\"V0y는 {V0y:.2f}\")\n",
        "\n",
        "# 1. 포사체가 지면에 충돌할 때까지 걸린 시간\n",
        "a = 0.5 * g\n",
        "b = V0y\n",
        "c = y0\n",
        "\n",
        "discriminant = b**2 - 4 * a * c\n",
        "time = 0\n",
        "\n",
        "if discriminant >= 0:\n",
        "    t1 = (-b + math.sqrt(discriminant)) / (2 * a)\n",
        "    t2 = (-b - math.sqrt(discriminant)) / (2 * a)\n",
        "\n",
        "    if t1 > 0:\n",
        "        time = t1\n",
        "        print(f\"걸린시간은 {t1:.2f}초입니다.\")\n",
        "    elif t2 > 0:\n",
        "        time = t2\n",
        "        print(f\"걸린시간은 {t2:.2f}초입니다.\")\n",
        "    else:\n",
        "        print(\"시간이 없습니다.\")\n",
        "else:\n",
        "    print(\"해가 없습니다.\")\n",
        "\n",
        "# 2. 수평 거리 계산\n",
        "x = V0x * time\n",
        "print(f\"수평거리 X는 {x:.2f}\")\n",
        "\n",
        "# 3. 충돌 직전 속도 성분\n",
        "Vx = V0x\n",
        "Vy = V0y + g * time  # g는 음수이므로 덧셈\n",
        "print(f\"속도의 수평성분 {Vx:.2f} m/s입니다.\")\n",
        "print(f\"속도의 수직성분 {Vy:.2f} m/s입니다.\")\n",
        "\n",
        "# 4. 속도의 크기\n",
        "s = math.sqrt(Vx**2 + Vy**2)\n",
        "print(f\"속도의 크기는 {s:.2f} m/s입니다.\")\n",
        "\n",
        "# 5. 수평면과 이루는 각\n",
        "theta = math.atan2(Vy, Vx)\n",
        "theta_deg = math.degrees(theta)\n",
        "print(f\"속도벡터가 수평면과 이루는 각은 {theta_deg:.2f}도입니다.\")\n"
      ]
    }
  ]
}