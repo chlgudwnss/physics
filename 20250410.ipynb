{
  "nbformat": 4,
  "nbformat_minor": 0,
  "metadata": {
    "colab": {
      "provenance": [],
      "authorship_tag": "ABX9TyPnxDH9cl2dJhIP5s11611B",
      "include_colab_link": true
    },
    "kernelspec": {
      "name": "python3",
      "display_name": "Python 3"
    },
    "language_info": {
      "name": "python"
    }
  },
  "cells": [
    {
      "cell_type": "markdown",
      "metadata": {
        "id": "view-in-github",
        "colab_type": "text"
      },
      "source": [
        "<a href=\"https://colab.research.google.com/github/chlgudwnss/physics/blob/20250410/20250410.ipynb\" target=\"_parent\"><img src=\"https://colab.research.google.com/assets/colab-badge.svg\" alt=\"Open In Colab\"/></a>"
      ]
    },
    {
      "cell_type": "code",
      "execution_count": 1,
      "metadata": {
        "colab": {
          "base_uri": "https://localhost:8080/"
        },
        "id": "mfSI84I472N0",
        "outputId": "f0e22de0-e2e6-4040-9778-feaabbc68643"
      },
      "outputs": [
        {
          "output_type": "stream",
          "name": "stdout",
          "text": [
            "초기속도를 입력하세요: 10\n",
            "각도를 입력하세요: 30\n",
            "x방향의 초기속도: 8.66\n",
            "y방향의 초기속도: 5.00\n",
            "최고점의 높이: 1.28\n",
            "최고점에 도달하는 시간은: 0.51\n",
            "수평으로 이동한 최고 거리는: 4.42\n",
            "지면에 닿을때의 Vx = 8.66, Vy = 5.00, V_final = 10.00\n"
          ]
        }
      ],
      "source": [
        "import math\n",
        "\n",
        "# Constants\n",
        "PI = 3.141592\n",
        "g = -9.8\n",
        "\n",
        "# 1. Initial velocity in x and y directions\n",
        "V0 = float(input(\"초기속도를 입력하세요: \"))\n",
        "theta_degree = float(input(\"각도를 입력하세요: \"))\n",
        "\n",
        "# Convert angle to radians\n",
        "rad = PI * theta_degree / 180.0\n",
        "V0x = V0 * math.cos(rad)\n",
        "V0y = V0 * math.sin(rad)\n",
        "\n",
        "print(f\"x방향의 초기속도: {V0x:.2f}\")\n",
        "print(f\"y방향의 초기속도: {V0y:.2f}\")\n",
        "\n",
        "# 2. Calculate the maximum height\n",
        "H = (V0y ** 2) / (2 * -g)\n",
        "print(f\"최고점의 높이: {H:.2f}\")\n",
        "\n",
        "# 3. Calculate the time to reach the highest point\n",
        "t = V0y / -g\n",
        "print(f\"최고점에 도달하는 시간은: {t:.2f}\")\n",
        "\n",
        "# 4. Calculate the horizontal distance at the highest point\n",
        "s = V0x * t\n",
        "print(f\"수평으로 이동한 최고 거리는: {s:.2f}\")\n",
        "\n",
        "# 5. Calculate the velocity components (Vx, Vy) when the object hits the ground, and the final velocity\n",
        "Vx = V0 * math.cos(rad)\n",
        "Vy = V0 * math.sin(rad)\n",
        "V_final = math.sqrt(Vx ** 2 + Vy ** 2)\n",
        "print(f\"지면에 닿을때의 Vx = {Vx:.2f}, Vy = {Vy:.2f}, V_final = {V_final:.2f}\")\n"
      ]
    }
  ]
}