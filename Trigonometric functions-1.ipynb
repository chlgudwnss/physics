{
  "nbformat": 4,
  "nbformat_minor": 0,
  "metadata": {
    "colab": {
      "provenance": [],
      "authorship_tag": "ABX9TyO+L0caBQt2a23EJlyPxG7J",
      "include_colab_link": true
    },
    "kernelspec": {
      "name": "python3",
      "display_name": "Python 3"
    },
    "language_info": {
      "name": "python"
    }
  },
  "cells": [
    {
      "cell_type": "markdown",
      "metadata": {
        "id": "view-in-github",
        "colab_type": "text"
      },
      "source": [
        "<a href=\"https://colab.research.google.com/github/chlgudwnss/physics/blob/20250312/Trigonometric.ipynb\" target=\"_parent\"><img src=\"https://colab.research.google.com/assets/colab-badge.svg\" alt=\"Open In Colab\"/></a>"
      ]
    },
    {
      "cell_type": "code",
      "execution_count": 1,
      "metadata": {
        "id": "rmPZeDH2EHtR"
      },
      "outputs": [],
      "source": [
        "import math                #수학함수를 사용하기 위해 라이브러리 추가"
      ]
    },
    {
      "cell_type": "markdown",
      "source": [
        "호도법"
      ],
      "metadata": {
        "id": "4rP6fK-tMnSf"
      }
    },
    {
      "cell_type": "code",
      "source": [
        "angel_degree = 30\n",
        "\n",
        "angel_radian = angel_degree * math.pi / 180\n",
        "\n",
        "print(\"angel_radian :\", angel_radian)"
      ],
      "metadata": {
        "colab": {
          "base_uri": "https://localhost:8080/"
        },
        "id": "LOoj5EOtL2dF",
        "outputId": "f30b3566-1cca-455d-f462-93ba856a41ac"
      },
      "execution_count": 2,
      "outputs": [
        {
          "output_type": "stream",
          "name": "stdout",
          "text": [
            "angel_radian : 0.5235987755982988\n"
          ]
        }
      ]
    },
    {
      "cell_type": "code",
      "source": [
        "math.cos(angel_radian)"
      ],
      "metadata": {
        "colab": {
          "base_uri": "https://localhost:8080/"
        },
        "id": "3H4oXOCTMN7H",
        "outputId": "bda80560-7b58-4bd4-ecda-270fbb3120da"
      },
      "execution_count": 3,
      "outputs": [
        {
          "output_type": "execute_result",
          "data": {
            "text/plain": [
              "0.8660254037844387"
            ]
          },
          "metadata": {},
          "execution_count": 3
        }
      ]
    },
    {
      "cell_type": "code",
      "source": [
        "math.sin(angel_radian)"
      ],
      "metadata": {
        "colab": {
          "base_uri": "https://localhost:8080/"
        },
        "id": "XHeYe5B9MS_D",
        "outputId": "c13ef15f-df4e-426a-9f0b-ad40cee6d920"
      },
      "execution_count": 4,
      "outputs": [
        {
          "output_type": "execute_result",
          "data": {
            "text/plain": [
              "0.49999999999999994"
            ]
          },
          "metadata": {},
          "execution_count": 4
        }
      ]
    },
    {
      "cell_type": "code",
      "source": [
        "math.tan(angel_radian)"
      ],
      "metadata": {
        "colab": {
          "base_uri": "https://localhost:8080/"
        },
        "id": "ZnZWJ4b6MWEF",
        "outputId": "14af769f-993b-43da-c330-ca9707864cf2"
      },
      "execution_count": 5,
      "outputs": [
        {
          "output_type": "execute_result",
          "data": {
            "text/plain": [
              "0.5773502691896257"
            ]
          },
          "metadata": {},
          "execution_count": 5
        }
      ]
    },
    {
      "cell_type": "markdown",
      "source": [
        "직교좌표를 극좌표로 변환"
      ],
      "metadata": {
        "id": "taCkQoFwMq1k"
      }
    },
    {
      "cell_type": "code",
      "source": [
        "x, y = 1.0, 2.0"
      ],
      "metadata": {
        "id": "rny4RhxIMuB7"
      },
      "execution_count": 9,
      "outputs": []
    },
    {
      "cell_type": "code",
      "source": [
        "r = math.sqrt(x**2 + y**2)        # x**2는 x의 제곱, sqrt는 루트\n",
        "theta_radian = math.atan2(y, x)   #atan은 tan함수의 역함수\n",
        "\n",
        "print(r, theta_radian)"
      ],
      "metadata": {
        "colab": {
          "base_uri": "https://localhost:8080/"
        },
        "id": "YC8nxI1qMzF4",
        "outputId": "a330bbdb-d6f3-45dd-cbb0-252c2da26979"
      },
      "execution_count": 10,
      "outputs": [
        {
          "output_type": "stream",
          "name": "stdout",
          "text": [
            "2.23606797749979 1.1071487177940904\n"
          ]
        }
      ]
    },
    {
      "cell_type": "markdown",
      "source": [
        "극 좌표를 직교좌표로 변환"
      ],
      "metadata": {
        "id": "txr_-ATXOL1T"
      }
    },
    {
      "cell_type": "code",
      "source": [
        "r, angle = 10, 30"
      ],
      "metadata": {
        "id": "iemfEisbOQBJ"
      },
      "execution_count": 14,
      "outputs": []
    },
    {
      "cell_type": "code",
      "source": [
        "#9번셀을 참조하여 극좌표 변환을 완성하시오."
      ],
      "metadata": {
        "id": "mjKpvWOUOXA_"
      },
      "execution_count": null,
      "outputs": []
    },
    {
      "cell_type": "code",
      "source": [
        "theta_radian = math.radians(angle)   #라디안을 각도로 변환\n",
        "\n",
        "x = r * math.cos(theta_radian)\n",
        "y = r * math.sin(theta_radian)\n",
        "\n",
        "print(x, y)"
      ],
      "metadata": {
        "colab": {
          "base_uri": "https://localhost:8080/"
        },
        "id": "zYDx3sO5OdRL",
        "outputId": "460be672-abd2-494a-8f7e-172abfa8081f"
      },
      "execution_count": 15,
      "outputs": [
        {
          "output_type": "stream",
          "name": "stdout",
          "text": [
            "8.660254037844387 4.999999999999999\n"
          ]
        }
      ]
    }
  ]
}
